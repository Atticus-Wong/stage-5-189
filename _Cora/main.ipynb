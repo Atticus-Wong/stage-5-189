{
 "cells": [
  {
   "cell_type": "code",
   "execution_count": null,
   "id": "4142ee31",
   "metadata": {},
   "outputs": [],
   "source": [
    "import torch\n",
    "import torch.nn as nn\n",
    "import torch.nn.functional as F\n",
    "import torch.optim as optim\n",
    "import sys\n",
    "sys.path.append('..')\n",
    "from Dataset_Loader_Node_Classification import DatasetLoader"
   ]
  }
 ],
 "metadata": {
  "kernelspec": {
   "display_name": "189G",
   "language": "python",
   "name": "python3"
  },
  "language_info": {
   "name": "python",
   "version": "3.12.2"
  }
 },
 "nbformat": 4,
 "nbformat_minor": 5
}
